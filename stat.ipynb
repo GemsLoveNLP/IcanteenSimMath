{
 "cells": [
  {
   "attachments": {},
   "cell_type": "markdown",
   "metadata": {},
   "source": [
    "Import the libraries"
   ]
  },
  {
   "cell_type": "code",
   "execution_count": 32,
   "metadata": {},
   "outputs": [],
   "source": [
    "import numpy as np\n",
    "import pandas as pd"
   ]
  },
  {
   "attachments": {},
   "cell_type": "markdown",
   "metadata": {},
   "source": [
    "From the gathering of data we manage to get the following result"
   ]
  },
  {
   "cell_type": "code",
   "execution_count": 33,
   "metadata": {},
   "outputs": [],
   "source": [
    "maxx_list = [[33,34,32],[122,125,119],[122,110,120],[30,35,28],[31,32,30],[122,109,118],[30,31,39],[30,30,32],[64,60,55],[122,110,117],[30,31,39]]\n",
    "minn_list = [[15,13,20],[45,45,49],[27,20,37],[10,18,18],[14,14,14],[40,52,40],[25,18,26],[15,17,16],[10,15,13],[52,38,42],[15,17,16]]\n",
    "entr_list = [[20,30,25],[72,74,73],[90,88,95],[25,28,26],[20,24,28],[72,70,70],[46,44,48],[37,39,44],[51,50,54],[72,74,73],[90,88,95]]\n",
    "mode = [17, 91, 92, 21, 17, 89, 26, 24, 42, 90, 27]"
   ]
  },
  {
   "cell_type": "code",
   "execution_count": 34,
   "metadata": {},
   "outputs": [],
   "source": [
    "df_raw = pd.DataFrame({\n",
    "    'max_day1': [11] + [i[0] for i in maxx_list],\n",
    "    'max_day2': [9] + [i[1] for i in maxx_list],\n",
    "    'max_day3': [10] + [i[2] for i in maxx_list],\n",
    "    'min_day1': [3] + [i[0] for i in minn_list],\n",
    "    'min_day2': [2] + [i[1] for i in minn_list],\n",
    "    'min_day3': [4] + [i[2] for i in minn_list],\n",
    "    'mode' : [3] + mode,\n",
    "    'period_day1': [9] + [i[0] for i in entr_list],\n",
    "    'period_day2': [8] + [i[1] for i in entr_list],\n",
    "    'period_day3': [13] + [i[2] for i in entr_list]\n",
    "},\n",
    "index=[i for i in range(1,13)])"
   ]
  },
  {
   "cell_type": "code",
   "execution_count": 35,
   "metadata": {},
   "outputs": [
    {
     "data": {
      "text/html": [
       "<div>\n",
       "<style scoped>\n",
       "    .dataframe tbody tr th:only-of-type {\n",
       "        vertical-align: middle;\n",
       "    }\n",
       "\n",
       "    .dataframe tbody tr th {\n",
       "        vertical-align: top;\n",
       "    }\n",
       "\n",
       "    .dataframe thead th {\n",
       "        text-align: right;\n",
       "    }\n",
       "</style>\n",
       "<table border=\"1\" class=\"dataframe\">\n",
       "  <thead>\n",
       "    <tr style=\"text-align: right;\">\n",
       "      <th></th>\n",
       "      <th>max_day1</th>\n",
       "      <th>max_day2</th>\n",
       "      <th>max_day3</th>\n",
       "      <th>min_day1</th>\n",
       "      <th>min_day2</th>\n",
       "      <th>min_day3</th>\n",
       "      <th>mode</th>\n",
       "      <th>period_day1</th>\n",
       "      <th>period_day2</th>\n",
       "      <th>period_day3</th>\n",
       "    </tr>\n",
       "  </thead>\n",
       "  <tbody>\n",
       "    <tr>\n",
       "      <th>1</th>\n",
       "      <td>11</td>\n",
       "      <td>9</td>\n",
       "      <td>10</td>\n",
       "      <td>3</td>\n",
       "      <td>2</td>\n",
       "      <td>4</td>\n",
       "      <td>3</td>\n",
       "      <td>9</td>\n",
       "      <td>8</td>\n",
       "      <td>13</td>\n",
       "    </tr>\n",
       "    <tr>\n",
       "      <th>2</th>\n",
       "      <td>33</td>\n",
       "      <td>34</td>\n",
       "      <td>32</td>\n",
       "      <td>15</td>\n",
       "      <td>13</td>\n",
       "      <td>20</td>\n",
       "      <td>17</td>\n",
       "      <td>20</td>\n",
       "      <td>30</td>\n",
       "      <td>25</td>\n",
       "    </tr>\n",
       "    <tr>\n",
       "      <th>3</th>\n",
       "      <td>122</td>\n",
       "      <td>125</td>\n",
       "      <td>119</td>\n",
       "      <td>45</td>\n",
       "      <td>45</td>\n",
       "      <td>49</td>\n",
       "      <td>91</td>\n",
       "      <td>72</td>\n",
       "      <td>74</td>\n",
       "      <td>73</td>\n",
       "    </tr>\n",
       "    <tr>\n",
       "      <th>4</th>\n",
       "      <td>122</td>\n",
       "      <td>110</td>\n",
       "      <td>120</td>\n",
       "      <td>27</td>\n",
       "      <td>20</td>\n",
       "      <td>37</td>\n",
       "      <td>92</td>\n",
       "      <td>90</td>\n",
       "      <td>88</td>\n",
       "      <td>95</td>\n",
       "    </tr>\n",
       "    <tr>\n",
       "      <th>5</th>\n",
       "      <td>30</td>\n",
       "      <td>35</td>\n",
       "      <td>28</td>\n",
       "      <td>10</td>\n",
       "      <td>18</td>\n",
       "      <td>18</td>\n",
       "      <td>21</td>\n",
       "      <td>25</td>\n",
       "      <td>28</td>\n",
       "      <td>26</td>\n",
       "    </tr>\n",
       "    <tr>\n",
       "      <th>6</th>\n",
       "      <td>31</td>\n",
       "      <td>32</td>\n",
       "      <td>30</td>\n",
       "      <td>14</td>\n",
       "      <td>14</td>\n",
       "      <td>14</td>\n",
       "      <td>17</td>\n",
       "      <td>20</td>\n",
       "      <td>24</td>\n",
       "      <td>28</td>\n",
       "    </tr>\n",
       "    <tr>\n",
       "      <th>7</th>\n",
       "      <td>122</td>\n",
       "      <td>109</td>\n",
       "      <td>118</td>\n",
       "      <td>40</td>\n",
       "      <td>52</td>\n",
       "      <td>40</td>\n",
       "      <td>89</td>\n",
       "      <td>72</td>\n",
       "      <td>70</td>\n",
       "      <td>70</td>\n",
       "    </tr>\n",
       "    <tr>\n",
       "      <th>8</th>\n",
       "      <td>30</td>\n",
       "      <td>31</td>\n",
       "      <td>39</td>\n",
       "      <td>25</td>\n",
       "      <td>18</td>\n",
       "      <td>26</td>\n",
       "      <td>26</td>\n",
       "      <td>46</td>\n",
       "      <td>44</td>\n",
       "      <td>48</td>\n",
       "    </tr>\n",
       "    <tr>\n",
       "      <th>9</th>\n",
       "      <td>30</td>\n",
       "      <td>30</td>\n",
       "      <td>32</td>\n",
       "      <td>15</td>\n",
       "      <td>17</td>\n",
       "      <td>16</td>\n",
       "      <td>24</td>\n",
       "      <td>37</td>\n",
       "      <td>39</td>\n",
       "      <td>44</td>\n",
       "    </tr>\n",
       "    <tr>\n",
       "      <th>10</th>\n",
       "      <td>64</td>\n",
       "      <td>60</td>\n",
       "      <td>55</td>\n",
       "      <td>10</td>\n",
       "      <td>15</td>\n",
       "      <td>13</td>\n",
       "      <td>42</td>\n",
       "      <td>51</td>\n",
       "      <td>50</td>\n",
       "      <td>54</td>\n",
       "    </tr>\n",
       "    <tr>\n",
       "      <th>11</th>\n",
       "      <td>122</td>\n",
       "      <td>110</td>\n",
       "      <td>117</td>\n",
       "      <td>52</td>\n",
       "      <td>38</td>\n",
       "      <td>42</td>\n",
       "      <td>90</td>\n",
       "      <td>72</td>\n",
       "      <td>74</td>\n",
       "      <td>73</td>\n",
       "    </tr>\n",
       "    <tr>\n",
       "      <th>12</th>\n",
       "      <td>30</td>\n",
       "      <td>31</td>\n",
       "      <td>39</td>\n",
       "      <td>15</td>\n",
       "      <td>17</td>\n",
       "      <td>16</td>\n",
       "      <td>27</td>\n",
       "      <td>90</td>\n",
       "      <td>88</td>\n",
       "      <td>95</td>\n",
       "    </tr>\n",
       "  </tbody>\n",
       "</table>\n",
       "</div>"
      ],
      "text/plain": [
       "    max_day1  max_day2  max_day3  min_day1  min_day2  min_day3  mode  \\\n",
       "1         11         9        10         3         2         4     3   \n",
       "2         33        34        32        15        13        20    17   \n",
       "3        122       125       119        45        45        49    91   \n",
       "4        122       110       120        27        20        37    92   \n",
       "5         30        35        28        10        18        18    21   \n",
       "6         31        32        30        14        14        14    17   \n",
       "7        122       109       118        40        52        40    89   \n",
       "8         30        31        39        25        18        26    26   \n",
       "9         30        30        32        15        17        16    24   \n",
       "10        64        60        55        10        15        13    42   \n",
       "11       122       110       117        52        38        42    90   \n",
       "12        30        31        39        15        17        16    27   \n",
       "\n",
       "    period_day1  period_day2  period_day3  \n",
       "1             9            8           13  \n",
       "2            20           30           25  \n",
       "3            72           74           73  \n",
       "4            90           88           95  \n",
       "5            25           28           26  \n",
       "6            20           24           28  \n",
       "7            72           70           70  \n",
       "8            46           44           48  \n",
       "9            37           39           44  \n",
       "10           51           50           54  \n",
       "11           72           74           73  \n",
       "12           90           88           95  "
      ]
     },
     "execution_count": 35,
     "metadata": {},
     "output_type": "execute_result"
    }
   ],
   "source": [
    "df_raw"
   ]
  },
  {
   "cell_type": "code",
   "execution_count": 36,
   "metadata": {},
   "outputs": [],
   "source": [
    "peak_small = [5, 4, 6]\n",
    "peak_big = [23, 21, 16]\n",
    "stable_small = [1, 1, 1]\n",
    "stable_big = [2, 6, 4]"
   ]
  },
  {
   "cell_type": "code",
   "execution_count": 61,
   "metadata": {},
   "outputs": [
    {
     "data": {
      "text/html": [
       "<div>\n",
       "<style scoped>\n",
       "    .dataframe tbody tr th:only-of-type {\n",
       "        vertical-align: middle;\n",
       "    }\n",
       "\n",
       "    .dataframe tbody tr th {\n",
       "        vertical-align: top;\n",
       "    }\n",
       "\n",
       "    .dataframe thead th {\n",
       "        text-align: right;\n",
       "    }\n",
       "</style>\n",
       "<table border=\"1\" class=\"dataframe\">\n",
       "  <thead>\n",
       "    <tr style=\"text-align: right;\">\n",
       "      <th></th>\n",
       "      <th>peak_small</th>\n",
       "      <th>stable_small</th>\n",
       "      <th>peak_big</th>\n",
       "      <th>stable_big</th>\n",
       "    </tr>\n",
       "  </thead>\n",
       "  <tbody>\n",
       "    <tr>\n",
       "      <th>0</th>\n",
       "      <td>5</td>\n",
       "      <td>1</td>\n",
       "      <td>23</td>\n",
       "      <td>2</td>\n",
       "    </tr>\n",
       "    <tr>\n",
       "      <th>1</th>\n",
       "      <td>4</td>\n",
       "      <td>1</td>\n",
       "      <td>21</td>\n",
       "      <td>6</td>\n",
       "    </tr>\n",
       "    <tr>\n",
       "      <th>2</th>\n",
       "      <td>6</td>\n",
       "      <td>1</td>\n",
       "      <td>16</td>\n",
       "      <td>4</td>\n",
       "    </tr>\n",
       "  </tbody>\n",
       "</table>\n",
       "</div>"
      ],
      "text/plain": [
       "   peak_small  stable_small  peak_big  stable_big\n",
       "0           5             1        23           2\n",
       "1           4             1        21           6\n",
       "2           6             1        16           4"
      ]
     },
     "execution_count": 61,
     "metadata": {},
     "output_type": "execute_result"
    }
   ],
   "source": [
    "df_raw2 = pd.DataFrame({\n",
    "    'peak_small':peak_small,\n",
    "    'stable_small':stable_small,\n",
    "    'peak_big':peak_big,\n",
    "    'stable_big':stable_big\n",
    "}\n",
    ")\n",
    "\n",
    "df_raw2"
   ]
  },
  {
   "cell_type": "code",
   "execution_count": 37,
   "metadata": {},
   "outputs": [
    {
     "data": {
      "text/html": [
       "<div>\n",
       "<style scoped>\n",
       "    .dataframe tbody tr th:only-of-type {\n",
       "        vertical-align: middle;\n",
       "    }\n",
       "\n",
       "    .dataframe tbody tr th {\n",
       "        vertical-align: top;\n",
       "    }\n",
       "\n",
       "    .dataframe thead th {\n",
       "        text-align: right;\n",
       "    }\n",
       "</style>\n",
       "<table border=\"1\" class=\"dataframe\">\n",
       "  <thead>\n",
       "    <tr style=\"text-align: right;\">\n",
       "      <th></th>\n",
       "      <th>Name</th>\n",
       "      <th>Min</th>\n",
       "      <th>Max</th>\n",
       "      <th>Mode</th>\n",
       "      <th>Period</th>\n",
       "    </tr>\n",
       "  </thead>\n",
       "  <tbody>\n",
       "    <tr>\n",
       "      <th>2</th>\n",
       "      <td>Orange</td>\n",
       "      <td>16.000000</td>\n",
       "      <td>33.000000</td>\n",
       "      <td>17</td>\n",
       "      <td>25.000000</td>\n",
       "    </tr>\n",
       "    <tr>\n",
       "      <th>3</th>\n",
       "      <td>Noodle</td>\n",
       "      <td>46.333333</td>\n",
       "      <td>122.000000</td>\n",
       "      <td>91</td>\n",
       "      <td>73.000000</td>\n",
       "    </tr>\n",
       "    <tr>\n",
       "      <th>4</th>\n",
       "      <td>BadRes</td>\n",
       "      <td>28.000000</td>\n",
       "      <td>117.333333</td>\n",
       "      <td>92</td>\n",
       "      <td>91.000000</td>\n",
       "    </tr>\n",
       "    <tr>\n",
       "      <th>5</th>\n",
       "      <td>FriedChicken</td>\n",
       "      <td>15.333333</td>\n",
       "      <td>31.000000</td>\n",
       "      <td>21</td>\n",
       "      <td>26.333333</td>\n",
       "    </tr>\n",
       "    <tr>\n",
       "      <th>6</th>\n",
       "      <td>RatArissara</td>\n",
       "      <td>14.000000</td>\n",
       "      <td>31.000000</td>\n",
       "      <td>17</td>\n",
       "      <td>24.000000</td>\n",
       "    </tr>\n",
       "    <tr>\n",
       "      <th>7</th>\n",
       "      <td>Eurobane</td>\n",
       "      <td>44.000000</td>\n",
       "      <td>116.333333</td>\n",
       "      <td>89</td>\n",
       "      <td>70.666667</td>\n",
       "    </tr>\n",
       "    <tr>\n",
       "      <th>8</th>\n",
       "      <td>NewRes</td>\n",
       "      <td>23.000000</td>\n",
       "      <td>33.333333</td>\n",
       "      <td>26</td>\n",
       "      <td>46.000000</td>\n",
       "    </tr>\n",
       "    <tr>\n",
       "      <th>9</th>\n",
       "      <td>RicePotatoChicken</td>\n",
       "      <td>16.000000</td>\n",
       "      <td>30.666667</td>\n",
       "      <td>24</td>\n",
       "      <td>40.000000</td>\n",
       "    </tr>\n",
       "    <tr>\n",
       "      <th>10</th>\n",
       "      <td>Waffle</td>\n",
       "      <td>12.666667</td>\n",
       "      <td>59.666667</td>\n",
       "      <td>42</td>\n",
       "      <td>51.666667</td>\n",
       "    </tr>\n",
       "    <tr>\n",
       "      <th>11</th>\n",
       "      <td>BestRes</td>\n",
       "      <td>44.000000</td>\n",
       "      <td>116.333333</td>\n",
       "      <td>90</td>\n",
       "      <td>73.000000</td>\n",
       "    </tr>\n",
       "    <tr>\n",
       "      <th>12</th>\n",
       "      <td>Steak</td>\n",
       "      <td>16.000000</td>\n",
       "      <td>33.333333</td>\n",
       "      <td>27</td>\n",
       "      <td>91.000000</td>\n",
       "    </tr>\n",
       "  </tbody>\n",
       "</table>\n",
       "</div>"
      ],
      "text/plain": [
       "                 Name        Min         Max  Mode     Period\n",
       "2              Orange  16.000000   33.000000    17  25.000000\n",
       "3              Noodle  46.333333  122.000000    91  73.000000\n",
       "4              BadRes  28.000000  117.333333    92  91.000000\n",
       "5        FriedChicken  15.333333   31.000000    21  26.333333\n",
       "6         RatArissara  14.000000   31.000000    17  24.000000\n",
       "7            Eurobane  44.000000  116.333333    89  70.666667\n",
       "8              NewRes  23.000000   33.333333    26  46.000000\n",
       "9   RicePotatoChicken  16.000000   30.666667    24  40.000000\n",
       "10             Waffle  12.666667   59.666667    42  51.666667\n",
       "11            BestRes  44.000000  116.333333    90  73.000000\n",
       "12              Steak  16.000000   33.333333    27  91.000000"
      ]
     },
     "execution_count": 37,
     "metadata": {},
     "output_type": "execute_result"
    }
   ],
   "source": [
    "entrance_period = [sum(i)/len(i) for i in entr_list]\n",
    "name = ['Orange',\n",
    "        'Noodle',\n",
    "        'BadRes',\n",
    "        'FriedChicken',\n",
    "        'RatArissara',\n",
    "        'Eurobane',\n",
    "        'NewRes',\n",
    "        'RicePotatoChicken',\n",
    "        'Waffle',\n",
    "        'BestRes',\n",
    "        'Steak']\n",
    "maxx = [sum(i)/len(i) for i in maxx_list]\n",
    "minn = [sum(i)/len(i) for i in minn_list]\n",
    "\n",
    "df0 = pd.DataFrame(\n",
    "    {\n",
    "    \"Name\":name,\n",
    "    \"Min\": minn,\n",
    "    \"Max\": maxx,\n",
    "    \"Mode\":mode,\n",
    "    \"Period\":entrance_period\n",
    "    },\n",
    "    index = [i for i in range(2,13)]\n",
    ")\n",
    "\n",
    "df0"
   ]
  },
  {
   "attachments": {},
   "cell_type": "markdown",
   "metadata": {},
   "source": [
    "Now, Let's calculate the probability for a customer to go queue up at a given restuarant"
   ]
  },
  {
   "cell_type": "code",
   "execution_count": 38,
   "metadata": {},
   "outputs": [],
   "source": [
    "l = np.array(entrance_period)\n",
    "one = np.ones(11)"
   ]
  },
  {
   "cell_type": "code",
   "execution_count": 39,
   "metadata": {},
   "outputs": [
    {
     "data": {
      "text/plain": [
       "array([0.04      , 0.01369863, 0.01098901, 0.03797468, 0.04166667,\n",
       "       0.01415094, 0.02173913, 0.025     , 0.01935484, 0.01369863,\n",
       "       0.01098901])"
      ]
     },
     "execution_count": 39,
     "metadata": {},
     "output_type": "execute_result"
    }
   ],
   "source": [
    "f = one/l\n",
    "f"
   ]
  },
  {
   "cell_type": "code",
   "execution_count": 40,
   "metadata": {},
   "outputs": [
    {
     "data": {
      "text/plain": [
       "0.24926154500365144"
      ]
     },
     "execution_count": 40,
     "metadata": {},
     "output_type": "execute_result"
    }
   ],
   "source": [
    "sum(list(f))"
   ]
  },
  {
   "cell_type": "code",
   "execution_count": 41,
   "metadata": {},
   "outputs": [
    {
     "data": {
      "text/plain": [
       "array([0.16047401, 0.05495685, 0.04408627, 0.15234874, 0.16716043,\n",
       "       0.05677147, 0.08721414, 0.10029626, 0.07764872, 0.05495685,\n",
       "       0.04408627])"
      ]
     },
     "execution_count": 41,
     "metadata": {},
     "output_type": "execute_result"
    }
   ],
   "source": [
    "f = f/sum(list(f))\n",
    "f"
   ]
  },
  {
   "attachments": {},
   "cell_type": "markdown",
   "metadata": {},
   "source": [
    "f is now an array of probability in whcih a restuarant is selected"
   ]
  },
  {
   "attachments": {},
   "cell_type": "markdown",
   "metadata": {},
   "source": [
    "Now let us find the probability of each select output module and their corresponding factor"
   ]
  },
  {
   "cell_type": "code",
   "execution_count": 42,
   "metadata": {},
   "outputs": [
    {
     "name": "stdout",
     "output_type": "stream",
     "text": [
      "[0.16047401 0.05495685 0.04408627 0.15234874 0.16716043]\n",
      "[0.05677147 0.08721414 0.10029626 0.07764872]\n",
      "[0.05495685 0.04408627]\n"
     ]
    }
   ],
   "source": [
    "f1 = f[:5]\n",
    "f2 = f[5:9]\n",
    "f3 = f[9:11]\n",
    "print(f1,f2,f3,sep=\"\\n\")"
   ]
  },
  {
   "cell_type": "code",
   "execution_count": 43,
   "metadata": {},
   "outputs": [],
   "source": [
    "def normalize(array):\n",
    "    s = sum(list(array))\n",
    "    return array/s, s"
   ]
  },
  {
   "cell_type": "code",
   "execution_count": 44,
   "metadata": {},
   "outputs": [
    {
     "name": "stdout",
     "output_type": "stream",
     "text": [
      "(array([0.2771446 , 0.09491253, 0.07613863, 0.26311196, 0.28869229]), 0.5790263048191147)\n",
      "(array([0.17634692, 0.27090977, 0.31154623, 0.24119708]), 0.32193057512947265)\n",
      "(array([0.55487805, 0.44512195]), 0.09904312005141283)\n"
     ]
    }
   ],
   "source": [
    "f1 = normalize(f1)\n",
    "f2 = normalize(f2)\n",
    "f3 = normalize(f3)\n",
    "print(f1,f2,f3,sep=\"\\n\")"
   ]
  },
  {
   "cell_type": "code",
   "execution_count": 45,
   "metadata": {},
   "outputs": [
    {
     "data": {
      "text/plain": [
       "([0.2771, 0.0949, 0.0761, 0.2631, 0.2887], 0.9999)"
      ]
     },
     "execution_count": 45,
     "metadata": {},
     "output_type": "execute_result"
    }
   ],
   "source": [
    "l1  = [round(i,4) for i in f1[0]]\n",
    "l1, sum(l1)"
   ]
  },
  {
   "cell_type": "code",
   "execution_count": 46,
   "metadata": {},
   "outputs": [
    {
     "data": {
      "text/plain": [
       "([0.1763, 0.2709, 0.3115, 0.2412], 0.9998999999999999)"
      ]
     },
     "execution_count": 46,
     "metadata": {},
     "output_type": "execute_result"
    }
   ],
   "source": [
    "l2 = [round(i,4) for i in f2[0]]\n",
    "l2, sum(l2)"
   ]
  },
  {
   "cell_type": "code",
   "execution_count": 47,
   "metadata": {},
   "outputs": [
    {
     "data": {
      "text/plain": [
       "([0.5549, 0.4451], 1.0)"
      ]
     },
     "execution_count": 47,
     "metadata": {},
     "output_type": "execute_result"
    }
   ],
   "source": [
    "l3 = [round(i,4) for i in f3[0]]\n",
    "l3, sum(l3)"
   ]
  },
  {
   "cell_type": "code",
   "execution_count": 48,
   "metadata": {},
   "outputs": [],
   "source": [
    "prob = list(f)\n",
    "prob_sub = l1 + l2 + l3\n",
    "factor = [f1[1]]*5 + [f2[1]]*4 + [f3[1]]*2\n",
    "factor0_9 = list(np.array(factor)*0.9)"
   ]
  },
  {
   "cell_type": "code",
   "execution_count": 49,
   "metadata": {},
   "outputs": [],
   "source": [
    "df = pd.DataFrame({\n",
    "    \"Name\":name,\n",
    "    \"Min\": minn,\n",
    "    \"Max\": maxx,\n",
    "    \"Mode\":mode,\n",
    "    \"Prob\":prob,\n",
    "    \"ProbSub\":prob_sub,\n",
    "    \"InitFactor\":factor,\n",
    "    \"ScaledFactor\":factor0_9\n",
    "}\n",
    ",index=[i for i in range(2,13)])"
   ]
  },
  {
   "cell_type": "code",
   "execution_count": 50,
   "metadata": {},
   "outputs": [
    {
     "data": {
      "text/html": [
       "<div>\n",
       "<style scoped>\n",
       "    .dataframe tbody tr th:only-of-type {\n",
       "        vertical-align: middle;\n",
       "    }\n",
       "\n",
       "    .dataframe tbody tr th {\n",
       "        vertical-align: top;\n",
       "    }\n",
       "\n",
       "    .dataframe thead th {\n",
       "        text-align: right;\n",
       "    }\n",
       "</style>\n",
       "<table border=\"1\" class=\"dataframe\">\n",
       "  <thead>\n",
       "    <tr style=\"text-align: right;\">\n",
       "      <th></th>\n",
       "      <th>Name</th>\n",
       "      <th>Min</th>\n",
       "      <th>Max</th>\n",
       "      <th>Mode</th>\n",
       "      <th>Prob</th>\n",
       "      <th>ProbSub</th>\n",
       "      <th>InitFactor</th>\n",
       "      <th>ScaledFactor</th>\n",
       "    </tr>\n",
       "  </thead>\n",
       "  <tbody>\n",
       "    <tr>\n",
       "      <th>2</th>\n",
       "      <td>Orange</td>\n",
       "      <td>16.000000</td>\n",
       "      <td>33.000000</td>\n",
       "      <td>17</td>\n",
       "      <td>0.160474</td>\n",
       "      <td>0.2771</td>\n",
       "      <td>0.579026</td>\n",
       "      <td>0.521124</td>\n",
       "    </tr>\n",
       "    <tr>\n",
       "      <th>3</th>\n",
       "      <td>Noodle</td>\n",
       "      <td>46.333333</td>\n",
       "      <td>122.000000</td>\n",
       "      <td>91</td>\n",
       "      <td>0.054957</td>\n",
       "      <td>0.0949</td>\n",
       "      <td>0.579026</td>\n",
       "      <td>0.521124</td>\n",
       "    </tr>\n",
       "    <tr>\n",
       "      <th>4</th>\n",
       "      <td>BadRes</td>\n",
       "      <td>28.000000</td>\n",
       "      <td>117.333333</td>\n",
       "      <td>92</td>\n",
       "      <td>0.044086</td>\n",
       "      <td>0.0761</td>\n",
       "      <td>0.579026</td>\n",
       "      <td>0.521124</td>\n",
       "    </tr>\n",
       "    <tr>\n",
       "      <th>5</th>\n",
       "      <td>FriedChicken</td>\n",
       "      <td>15.333333</td>\n",
       "      <td>31.000000</td>\n",
       "      <td>21</td>\n",
       "      <td>0.152349</td>\n",
       "      <td>0.2631</td>\n",
       "      <td>0.579026</td>\n",
       "      <td>0.521124</td>\n",
       "    </tr>\n",
       "    <tr>\n",
       "      <th>6</th>\n",
       "      <td>RatArissara</td>\n",
       "      <td>14.000000</td>\n",
       "      <td>31.000000</td>\n",
       "      <td>17</td>\n",
       "      <td>0.167160</td>\n",
       "      <td>0.2887</td>\n",
       "      <td>0.579026</td>\n",
       "      <td>0.521124</td>\n",
       "    </tr>\n",
       "    <tr>\n",
       "      <th>7</th>\n",
       "      <td>Eurobane</td>\n",
       "      <td>44.000000</td>\n",
       "      <td>116.333333</td>\n",
       "      <td>89</td>\n",
       "      <td>0.056771</td>\n",
       "      <td>0.1763</td>\n",
       "      <td>0.321931</td>\n",
       "      <td>0.289738</td>\n",
       "    </tr>\n",
       "    <tr>\n",
       "      <th>8</th>\n",
       "      <td>NewRes</td>\n",
       "      <td>23.000000</td>\n",
       "      <td>33.333333</td>\n",
       "      <td>26</td>\n",
       "      <td>0.087214</td>\n",
       "      <td>0.2709</td>\n",
       "      <td>0.321931</td>\n",
       "      <td>0.289738</td>\n",
       "    </tr>\n",
       "    <tr>\n",
       "      <th>9</th>\n",
       "      <td>RicePotatoChicken</td>\n",
       "      <td>16.000000</td>\n",
       "      <td>30.666667</td>\n",
       "      <td>24</td>\n",
       "      <td>0.100296</td>\n",
       "      <td>0.3115</td>\n",
       "      <td>0.321931</td>\n",
       "      <td>0.289738</td>\n",
       "    </tr>\n",
       "    <tr>\n",
       "      <th>10</th>\n",
       "      <td>Waffle</td>\n",
       "      <td>12.666667</td>\n",
       "      <td>59.666667</td>\n",
       "      <td>42</td>\n",
       "      <td>0.077649</td>\n",
       "      <td>0.2412</td>\n",
       "      <td>0.321931</td>\n",
       "      <td>0.289738</td>\n",
       "    </tr>\n",
       "    <tr>\n",
       "      <th>11</th>\n",
       "      <td>BestRes</td>\n",
       "      <td>44.000000</td>\n",
       "      <td>116.333333</td>\n",
       "      <td>90</td>\n",
       "      <td>0.054957</td>\n",
       "      <td>0.5549</td>\n",
       "      <td>0.099043</td>\n",
       "      <td>0.089139</td>\n",
       "    </tr>\n",
       "    <tr>\n",
       "      <th>12</th>\n",
       "      <td>Steak</td>\n",
       "      <td>16.000000</td>\n",
       "      <td>33.333333</td>\n",
       "      <td>27</td>\n",
       "      <td>0.044086</td>\n",
       "      <td>0.4451</td>\n",
       "      <td>0.099043</td>\n",
       "      <td>0.089139</td>\n",
       "    </tr>\n",
       "  </tbody>\n",
       "</table>\n",
       "</div>"
      ],
      "text/plain": [
       "                 Name        Min         Max  Mode      Prob  ProbSub  \\\n",
       "2              Orange  16.000000   33.000000    17  0.160474   0.2771   \n",
       "3              Noodle  46.333333  122.000000    91  0.054957   0.0949   \n",
       "4              BadRes  28.000000  117.333333    92  0.044086   0.0761   \n",
       "5        FriedChicken  15.333333   31.000000    21  0.152349   0.2631   \n",
       "6         RatArissara  14.000000   31.000000    17  0.167160   0.2887   \n",
       "7            Eurobane  44.000000  116.333333    89  0.056771   0.1763   \n",
       "8              NewRes  23.000000   33.333333    26  0.087214   0.2709   \n",
       "9   RicePotatoChicken  16.000000   30.666667    24  0.100296   0.3115   \n",
       "10             Waffle  12.666667   59.666667    42  0.077649   0.2412   \n",
       "11            BestRes  44.000000  116.333333    90  0.054957   0.5549   \n",
       "12              Steak  16.000000   33.333333    27  0.044086   0.4451   \n",
       "\n",
       "    InitFactor  ScaledFactor  \n",
       "2     0.579026      0.521124  \n",
       "3     0.579026      0.521124  \n",
       "4     0.579026      0.521124  \n",
       "5     0.579026      0.521124  \n",
       "6     0.579026      0.521124  \n",
       "7     0.321931      0.289738  \n",
       "8     0.321931      0.289738  \n",
       "9     0.321931      0.289738  \n",
       "10    0.321931      0.289738  \n",
       "11    0.099043      0.089139  \n",
       "12    0.099043      0.089139  "
      ]
     },
     "execution_count": 50,
     "metadata": {},
     "output_type": "execute_result"
    }
   ],
   "source": [
    "df"
   ]
  },
  {
   "cell_type": "code",
   "execution_count": 51,
   "metadata": {},
   "outputs": [],
   "source": [
    "df.loc[1] = ['Drink', 3, 10, 3, 1, 1, 1, 1] "
   ]
  },
  {
   "cell_type": "code",
   "execution_count": 52,
   "metadata": {},
   "outputs": [
    {
     "data": {
      "text/html": [
       "<div>\n",
       "<style scoped>\n",
       "    .dataframe tbody tr th:only-of-type {\n",
       "        vertical-align: middle;\n",
       "    }\n",
       "\n",
       "    .dataframe tbody tr th {\n",
       "        vertical-align: top;\n",
       "    }\n",
       "\n",
       "    .dataframe thead th {\n",
       "        text-align: right;\n",
       "    }\n",
       "</style>\n",
       "<table border=\"1\" class=\"dataframe\">\n",
       "  <thead>\n",
       "    <tr style=\"text-align: right;\">\n",
       "      <th></th>\n",
       "      <th>Name</th>\n",
       "      <th>Min</th>\n",
       "      <th>Max</th>\n",
       "      <th>Mode</th>\n",
       "      <th>Prob</th>\n",
       "      <th>ProbSub</th>\n",
       "      <th>InitFactor</th>\n",
       "      <th>ScaledFactor</th>\n",
       "    </tr>\n",
       "  </thead>\n",
       "  <tbody>\n",
       "    <tr>\n",
       "      <th>12</th>\n",
       "      <td>Steak</td>\n",
       "      <td>16.000000</td>\n",
       "      <td>33.333333</td>\n",
       "      <td>27</td>\n",
       "      <td>0.044086</td>\n",
       "      <td>0.4451</td>\n",
       "      <td>0.099043</td>\n",
       "      <td>0.089139</td>\n",
       "    </tr>\n",
       "    <tr>\n",
       "      <th>11</th>\n",
       "      <td>BestRes</td>\n",
       "      <td>44.000000</td>\n",
       "      <td>116.333333</td>\n",
       "      <td>90</td>\n",
       "      <td>0.054957</td>\n",
       "      <td>0.5549</td>\n",
       "      <td>0.099043</td>\n",
       "      <td>0.089139</td>\n",
       "    </tr>\n",
       "    <tr>\n",
       "      <th>10</th>\n",
       "      <td>Waffle</td>\n",
       "      <td>12.666667</td>\n",
       "      <td>59.666667</td>\n",
       "      <td>42</td>\n",
       "      <td>0.077649</td>\n",
       "      <td>0.2412</td>\n",
       "      <td>0.321931</td>\n",
       "      <td>0.289738</td>\n",
       "    </tr>\n",
       "    <tr>\n",
       "      <th>9</th>\n",
       "      <td>RicePotatoChicken</td>\n",
       "      <td>16.000000</td>\n",
       "      <td>30.666667</td>\n",
       "      <td>24</td>\n",
       "      <td>0.100296</td>\n",
       "      <td>0.3115</td>\n",
       "      <td>0.321931</td>\n",
       "      <td>0.289738</td>\n",
       "    </tr>\n",
       "    <tr>\n",
       "      <th>8</th>\n",
       "      <td>NewRes</td>\n",
       "      <td>23.000000</td>\n",
       "      <td>33.333333</td>\n",
       "      <td>26</td>\n",
       "      <td>0.087214</td>\n",
       "      <td>0.2709</td>\n",
       "      <td>0.321931</td>\n",
       "      <td>0.289738</td>\n",
       "    </tr>\n",
       "    <tr>\n",
       "      <th>7</th>\n",
       "      <td>Eurobane</td>\n",
       "      <td>44.000000</td>\n",
       "      <td>116.333333</td>\n",
       "      <td>89</td>\n",
       "      <td>0.056771</td>\n",
       "      <td>0.1763</td>\n",
       "      <td>0.321931</td>\n",
       "      <td>0.289738</td>\n",
       "    </tr>\n",
       "    <tr>\n",
       "      <th>6</th>\n",
       "      <td>RatArissara</td>\n",
       "      <td>14.000000</td>\n",
       "      <td>31.000000</td>\n",
       "      <td>17</td>\n",
       "      <td>0.167160</td>\n",
       "      <td>0.2887</td>\n",
       "      <td>0.579026</td>\n",
       "      <td>0.521124</td>\n",
       "    </tr>\n",
       "    <tr>\n",
       "      <th>5</th>\n",
       "      <td>FriedChicken</td>\n",
       "      <td>15.333333</td>\n",
       "      <td>31.000000</td>\n",
       "      <td>21</td>\n",
       "      <td>0.152349</td>\n",
       "      <td>0.2631</td>\n",
       "      <td>0.579026</td>\n",
       "      <td>0.521124</td>\n",
       "    </tr>\n",
       "    <tr>\n",
       "      <th>4</th>\n",
       "      <td>BadRes</td>\n",
       "      <td>28.000000</td>\n",
       "      <td>117.333333</td>\n",
       "      <td>92</td>\n",
       "      <td>0.044086</td>\n",
       "      <td>0.0761</td>\n",
       "      <td>0.579026</td>\n",
       "      <td>0.521124</td>\n",
       "    </tr>\n",
       "    <tr>\n",
       "      <th>3</th>\n",
       "      <td>Noodle</td>\n",
       "      <td>46.333333</td>\n",
       "      <td>122.000000</td>\n",
       "      <td>91</td>\n",
       "      <td>0.054957</td>\n",
       "      <td>0.0949</td>\n",
       "      <td>0.579026</td>\n",
       "      <td>0.521124</td>\n",
       "    </tr>\n",
       "    <tr>\n",
       "      <th>2</th>\n",
       "      <td>Orange</td>\n",
       "      <td>16.000000</td>\n",
       "      <td>33.000000</td>\n",
       "      <td>17</td>\n",
       "      <td>0.160474</td>\n",
       "      <td>0.2771</td>\n",
       "      <td>0.579026</td>\n",
       "      <td>0.521124</td>\n",
       "    </tr>\n",
       "    <tr>\n",
       "      <th>1</th>\n",
       "      <td>Drink</td>\n",
       "      <td>3.000000</td>\n",
       "      <td>10.000000</td>\n",
       "      <td>3</td>\n",
       "      <td>1.000000</td>\n",
       "      <td>1.0000</td>\n",
       "      <td>1.000000</td>\n",
       "      <td>1.000000</td>\n",
       "    </tr>\n",
       "  </tbody>\n",
       "</table>\n",
       "</div>"
      ],
      "text/plain": [
       "                 Name        Min         Max  Mode      Prob  ProbSub  \\\n",
       "12              Steak  16.000000   33.333333    27  0.044086   0.4451   \n",
       "11            BestRes  44.000000  116.333333    90  0.054957   0.5549   \n",
       "10             Waffle  12.666667   59.666667    42  0.077649   0.2412   \n",
       "9   RicePotatoChicken  16.000000   30.666667    24  0.100296   0.3115   \n",
       "8              NewRes  23.000000   33.333333    26  0.087214   0.2709   \n",
       "7            Eurobane  44.000000  116.333333    89  0.056771   0.1763   \n",
       "6         RatArissara  14.000000   31.000000    17  0.167160   0.2887   \n",
       "5        FriedChicken  15.333333   31.000000    21  0.152349   0.2631   \n",
       "4              BadRes  28.000000  117.333333    92  0.044086   0.0761   \n",
       "3              Noodle  46.333333  122.000000    91  0.054957   0.0949   \n",
       "2              Orange  16.000000   33.000000    17  0.160474   0.2771   \n",
       "1               Drink   3.000000   10.000000     3  1.000000   1.0000   \n",
       "\n",
       "    InitFactor  ScaledFactor  \n",
       "12    0.099043      0.089139  \n",
       "11    0.099043      0.089139  \n",
       "10    0.321931      0.289738  \n",
       "9     0.321931      0.289738  \n",
       "8     0.321931      0.289738  \n",
       "7     0.321931      0.289738  \n",
       "6     0.579026      0.521124  \n",
       "5     0.579026      0.521124  \n",
       "4     0.579026      0.521124  \n",
       "3     0.579026      0.521124  \n",
       "2     0.579026      0.521124  \n",
       "1     1.000000      1.000000  "
      ]
     },
     "execution_count": 52,
     "metadata": {},
     "output_type": "execute_result"
    }
   ],
   "source": [
    "df.sort_index(ascending=False)\n"
   ]
  },
  {
   "attachments": {},
   "cell_type": "markdown",
   "metadata": {},
   "source": [
    "For the drink service, we calculate it by freq_drink/total_freq"
   ]
  },
  {
   "cell_type": "code",
   "execution_count": 53,
   "metadata": {},
   "outputs": [
    {
     "data": {
      "text/plain": [
       "28"
      ]
     },
     "execution_count": 53,
     "metadata": {},
     "output_type": "execute_result"
    }
   ],
   "source": [
    "small_in = 5\n",
    "big_in = 23\n",
    "tot = small_in + big_in\n",
    "tot"
   ]
  },
  {
   "cell_type": "code",
   "execution_count": 54,
   "metadata": {},
   "outputs": [
    {
     "data": {
      "text/plain": [
       "6.0"
      ]
     },
     "execution_count": 54,
     "metadata": {},
     "output_type": "execute_result"
    }
   ],
   "source": [
    "period_sec = 10\n",
    "freq_sec = 1/period_sec\n",
    "freq_min = freq_sec*60\n",
    "freq_min"
   ]
  },
  {
   "cell_type": "code",
   "execution_count": 55,
   "metadata": {},
   "outputs": [
    {
     "data": {
      "text/plain": [
       "0.21428571428571427"
      ]
     },
     "execution_count": 55,
     "metadata": {},
     "output_type": "execute_result"
    }
   ],
   "source": [
    "prob_drink = freq_min/tot\n",
    "prob_drink"
   ]
  },
  {
   "cell_type": "code",
   "execution_count": 56,
   "metadata": {},
   "outputs": [
    {
     "name": "stdout",
     "output_type": "stream",
     "text": [
      "0.21429 0.78571\n"
     ]
    }
   ],
   "source": [
    "print(round(prob_drink,5),1-round(prob_drink,5))"
   ]
  },
  {
   "attachments": {},
   "cell_type": "markdown",
   "metadata": {},
   "source": [
    "Exiting: finding the splitting's probability at the end"
   ]
  },
  {
   "cell_type": "code",
   "execution_count": 57,
   "metadata": {},
   "outputs": [
    {
     "data": {
      "text/plain": [
       "[0.00817, 0.0376]"
      ]
     },
     "execution_count": 57,
     "metadata": {},
     "output_type": "execute_result"
    }
   ],
   "source": [
    "small_big = [small_in, big_in]\n",
    "exit_prob = [round(i/sum(l),5) for i in small_big]\n",
    "exit_prob"
   ]
  },
  {
   "attachments": {},
   "cell_type": "markdown",
   "metadata": {},
   "source": [
    "Finding the parabola's scaling constant for the statechart"
   ]
  },
  {
   "cell_type": "code",
   "execution_count": 58,
   "metadata": {},
   "outputs": [],
   "source": [
    "def a(k, T):\n",
    "    a = -4*k/T**2\n",
    "    return a"
   ]
  },
  {
   "cell_type": "code",
   "execution_count": 59,
   "metadata": {},
   "outputs": [
    {
     "name": "stdout",
     "output_type": "stream",
     "text": [
      "-0.0125\n",
      "-0.05\n"
     ]
    }
   ],
   "source": [
    "print(a(5, 40))\n",
    "print(a(20, 40))"
   ]
  }
 ],
 "metadata": {
  "kernelspec": {
   "display_name": "Python 3",
   "language": "python",
   "name": "python3"
  },
  "language_info": {
   "codemirror_mode": {
    "name": "ipython",
    "version": 3
   },
   "file_extension": ".py",
   "mimetype": "text/x-python",
   "name": "python",
   "nbconvert_exporter": "python",
   "pygments_lexer": "ipython3",
   "version": "3.10.11"
  },
  "orig_nbformat": 4
 },
 "nbformat": 4,
 "nbformat_minor": 2
}
