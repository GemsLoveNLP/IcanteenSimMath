{
 "cells": [
  {
   "attachments": {},
   "cell_type": "markdown",
   "metadata": {},
   "source": [
    "Import the libraries"
   ]
  },
  {
   "cell_type": "code",
   "execution_count": 22,
   "metadata": {},
   "outputs": [],
   "source": [
    "import numpy as np\n",
    "import pandas as pd"
   ]
  },
  {
   "attachments": {},
   "cell_type": "markdown",
   "metadata": {},
   "source": [
    "From the gathering of data we manage to get the following result"
   ]
  },
  {
   "cell_type": "code",
   "execution_count": 23,
   "metadata": {},
   "outputs": [
    {
     "data": {
      "text/html": [
       "<div>\n",
       "<style scoped>\n",
       "    .dataframe tbody tr th:only-of-type {\n",
       "        vertical-align: middle;\n",
       "    }\n",
       "\n",
       "    .dataframe tbody tr th {\n",
       "        vertical-align: top;\n",
       "    }\n",
       "\n",
       "    .dataframe thead th {\n",
       "        text-align: right;\n",
       "    }\n",
       "</style>\n",
       "<table border=\"1\" class=\"dataframe\">\n",
       "  <thead>\n",
       "    <tr style=\"text-align: right;\">\n",
       "      <th></th>\n",
       "      <th>Name</th>\n",
       "      <th>Min</th>\n",
       "      <th>Max</th>\n",
       "      <th>Mode</th>\n",
       "      <th>Period</th>\n",
       "    </tr>\n",
       "  </thead>\n",
       "  <tbody>\n",
       "    <tr>\n",
       "      <th>2</th>\n",
       "      <td>Orange</td>\n",
       "      <td>25</td>\n",
       "      <td>70</td>\n",
       "      <td>35</td>\n",
       "      <td>25</td>\n",
       "    </tr>\n",
       "    <tr>\n",
       "      <th>3</th>\n",
       "      <td>Noodle</td>\n",
       "      <td>45</td>\n",
       "      <td>180</td>\n",
       "      <td>120</td>\n",
       "      <td>35</td>\n",
       "    </tr>\n",
       "    <tr>\n",
       "      <th>4</th>\n",
       "      <td>BadRes</td>\n",
       "      <td>30</td>\n",
       "      <td>240</td>\n",
       "      <td>120</td>\n",
       "      <td>50</td>\n",
       "    </tr>\n",
       "    <tr>\n",
       "      <th>5</th>\n",
       "      <td>FriedChicken</td>\n",
       "      <td>35</td>\n",
       "      <td>90</td>\n",
       "      <td>40</td>\n",
       "      <td>20</td>\n",
       "    </tr>\n",
       "    <tr>\n",
       "      <th>6</th>\n",
       "      <td>RatArissara</td>\n",
       "      <td>25</td>\n",
       "      <td>60</td>\n",
       "      <td>30</td>\n",
       "      <td>25</td>\n",
       "    </tr>\n",
       "    <tr>\n",
       "      <th>7</th>\n",
       "      <td>Eurobane</td>\n",
       "      <td>45</td>\n",
       "      <td>180</td>\n",
       "      <td>120</td>\n",
       "      <td>35</td>\n",
       "    </tr>\n",
       "    <tr>\n",
       "      <th>8</th>\n",
       "      <td>NewRes</td>\n",
       "      <td>30</td>\n",
       "      <td>50</td>\n",
       "      <td>35</td>\n",
       "      <td>45</td>\n",
       "    </tr>\n",
       "    <tr>\n",
       "      <th>9</th>\n",
       "      <td>RicePotatoChicken</td>\n",
       "      <td>25</td>\n",
       "      <td>60</td>\n",
       "      <td>30</td>\n",
       "      <td>30</td>\n",
       "    </tr>\n",
       "    <tr>\n",
       "      <th>10</th>\n",
       "      <td>Waffle</td>\n",
       "      <td>10</td>\n",
       "      <td>60</td>\n",
       "      <td>40</td>\n",
       "      <td>50</td>\n",
       "    </tr>\n",
       "  </tbody>\n",
       "</table>\n",
       "</div>"
      ],
      "text/plain": [
       "                 Name  Min  Max  Mode  Period\n",
       "2              Orange   25   70    35      25\n",
       "3              Noodle   45  180   120      35\n",
       "4              BadRes   30  240   120      50\n",
       "5        FriedChicken   35   90    40      20\n",
       "6         RatArissara   25   60    30      25\n",
       "7            Eurobane   45  180   120      35\n",
       "8              NewRes   30   50    35      45\n",
       "9   RicePotatoChicken   25   60    30      30\n",
       "10             Waffle   10   60    40      50"
      ]
     },
     "execution_count": 23,
     "metadata": {},
     "output_type": "execute_result"
    }
   ],
   "source": [
    "entrance_period = [25, 35, 50, 20, 25, 35, 45, 30, 50]\n",
    "name = ['Orange',\n",
    "        'Noodle',\n",
    "        'BadRes',\n",
    "        'FriedChicken',\n",
    "        'RatArissara',\n",
    "        'Eurobane',\n",
    "        'NewRes',\n",
    "        'RicePotatoChicken',\n",
    "        'Waffle']\n",
    "maxx = [70, 180, 240, 90, 60, 180, 50, 60, 60]\n",
    "minn = [25, 45, 30, 35, 25, 45, 30, 25, 10]\n",
    "mode = [35, 120, 120, 40, 30, 120, 35, 30, 40]\n",
    "\n",
    "df0 = pd.DataFrame(\n",
    "    {\n",
    "    \"Name\":name,\n",
    "    \"Min\": minn,\n",
    "    \"Max\": maxx,\n",
    "    \"Mode\":mode,\n",
    "    \"Period\":entrance_period\n",
    "    },\n",
    "    index = [i for i in range(2,11)]\n",
    ")\n",
    "\n",
    "df0"
   ]
  },
  {
   "attachments": {},
   "cell_type": "markdown",
   "metadata": {},
   "source": [
    "Now, Let's calculate the probability for a customer to go queue up at a given restuarant"
   ]
  },
  {
   "cell_type": "code",
   "execution_count": 24,
   "metadata": {},
   "outputs": [],
   "source": [
    "l = np.array(entrance_period)\n",
    "one = np.ones(9)"
   ]
  },
  {
   "cell_type": "code",
   "execution_count": 25,
   "metadata": {},
   "outputs": [
    {
     "data": {
      "text/plain": [
       "array([0.04      , 0.02857143, 0.02      , 0.05      , 0.04      ,\n",
       "       0.02857143, 0.02222222, 0.03333333, 0.02      ])"
      ]
     },
     "execution_count": 25,
     "metadata": {},
     "output_type": "execute_result"
    }
   ],
   "source": [
    "f = one/l\n",
    "f"
   ]
  },
  {
   "cell_type": "code",
   "execution_count": 26,
   "metadata": {},
   "outputs": [
    {
     "data": {
      "text/plain": [
       "0.2826984126984127"
      ]
     },
     "execution_count": 26,
     "metadata": {},
     "output_type": "execute_result"
    }
   ],
   "source": [
    "sum(list(f))"
   ]
  },
  {
   "cell_type": "code",
   "execution_count": 27,
   "metadata": {},
   "outputs": [
    {
     "data": {
      "text/plain": [
       "array([0.14149354, 0.10106682, 0.07074677, 0.17686693, 0.14149354,\n",
       "       0.10106682, 0.07860752, 0.11791129, 0.07074677])"
      ]
     },
     "execution_count": 27,
     "metadata": {},
     "output_type": "execute_result"
    }
   ],
   "source": [
    "f = f/sum(list(f))\n",
    "f"
   ]
  },
  {
   "attachments": {},
   "cell_type": "markdown",
   "metadata": {},
   "source": [
    "f is now an array of probability in whcih a restuarant is selected"
   ]
  },
  {
   "attachments": {},
   "cell_type": "markdown",
   "metadata": {},
   "source": [
    "Now let us find the probability of each select output module and their corresponding factor"
   ]
  },
  {
   "cell_type": "code",
   "execution_count": 28,
   "metadata": {},
   "outputs": [
    {
     "name": "stdout",
     "output_type": "stream",
     "text": [
      "[0.14149354 0.10106682 0.07074677 0.17686693 0.14149354]\n",
      "[0.10106682 0.07860752 0.11791129 0.07074677]\n"
     ]
    }
   ],
   "source": [
    "f1 = f[:5]\n",
    "f2 = f[5:]\n",
    "print(f1,f2,sep=\"\\n\")"
   ]
  },
  {
   "cell_type": "code",
   "execution_count": 29,
   "metadata": {},
   "outputs": [],
   "source": [
    "def normalize(array):\n",
    "    s = sum(list(array))\n",
    "    return array/s, s"
   ]
  },
  {
   "cell_type": "code",
   "execution_count": 30,
   "metadata": {},
   "outputs": [
    {
     "name": "stdout",
     "output_type": "stream",
     "text": [
      "(array([0.224, 0.16 , 0.112, 0.28 , 0.224]), 0.6316676024705221)\n",
      "(array([0.27439024, 0.21341463, 0.32012195, 0.19207317]), 0.3683323975294778)\n"
     ]
    }
   ],
   "source": [
    "f1 = normalize(f1)\n",
    "f2 = normalize(f2)\n",
    "print(f1,f2,sep=\"\\n\")"
   ]
  },
  {
   "cell_type": "code",
   "execution_count": 31,
   "metadata": {},
   "outputs": [
    {
     "data": {
      "text/plain": [
       "([0.224, 0.16, 0.112, 0.28, 0.224], 1.0)"
      ]
     },
     "execution_count": 31,
     "metadata": {},
     "output_type": "execute_result"
    }
   ],
   "source": [
    "l1  = [round(i,4) for i in f1[0]]\n",
    "l1, sum(l1)"
   ]
  },
  {
   "cell_type": "code",
   "execution_count": 32,
   "metadata": {},
   "outputs": [
    {
     "data": {
      "text/plain": [
       "([0.2744, 0.2134, 0.3201, 0.1921], 1.0)"
      ]
     },
     "execution_count": 32,
     "metadata": {},
     "output_type": "execute_result"
    }
   ],
   "source": [
    "l2 = [round(i,4) for i in f2[0]]\n",
    "l2, sum(l2)"
   ]
  },
  {
   "cell_type": "code",
   "execution_count": 33,
   "metadata": {},
   "outputs": [],
   "source": [
    "prob = list(f)\n",
    "prob_sub = l1 + l2\n",
    "factor = [f1[1]]*5 + [f2[1]]*4\n",
    "factor0_9 = list(np.array(factor)*0.9)"
   ]
  },
  {
   "cell_type": "code",
   "execution_count": 34,
   "metadata": {},
   "outputs": [],
   "source": [
    "df = pd.DataFrame({\n",
    "    \"Name\":name,\n",
    "    \"Min\": minn,\n",
    "    \"Max\": maxx,\n",
    "    \"Mode\":mode,\n",
    "    \"Prob\":prob,\n",
    "    \"ProbSub\":prob_sub,\n",
    "    \"InitFactor\":factor,\n",
    "    \"ScaledFactor\":factor0_9\n",
    "}\n",
    ",index=[i for i in range(2,11)])"
   ]
  },
  {
   "cell_type": "code",
   "execution_count": 35,
   "metadata": {},
   "outputs": [
    {
     "data": {
      "text/html": [
       "<div>\n",
       "<style scoped>\n",
       "    .dataframe tbody tr th:only-of-type {\n",
       "        vertical-align: middle;\n",
       "    }\n",
       "\n",
       "    .dataframe tbody tr th {\n",
       "        vertical-align: top;\n",
       "    }\n",
       "\n",
       "    .dataframe thead th {\n",
       "        text-align: right;\n",
       "    }\n",
       "</style>\n",
       "<table border=\"1\" class=\"dataframe\">\n",
       "  <thead>\n",
       "    <tr style=\"text-align: right;\">\n",
       "      <th></th>\n",
       "      <th>Name</th>\n",
       "      <th>Min</th>\n",
       "      <th>Max</th>\n",
       "      <th>Mode</th>\n",
       "      <th>Prob</th>\n",
       "      <th>ProbSub</th>\n",
       "      <th>InitFactor</th>\n",
       "      <th>ScaledFactor</th>\n",
       "    </tr>\n",
       "  </thead>\n",
       "  <tbody>\n",
       "    <tr>\n",
       "      <th>2</th>\n",
       "      <td>Orange</td>\n",
       "      <td>25</td>\n",
       "      <td>70</td>\n",
       "      <td>35</td>\n",
       "      <td>0.141494</td>\n",
       "      <td>0.2240</td>\n",
       "      <td>0.631668</td>\n",
       "      <td>0.568501</td>\n",
       "    </tr>\n",
       "    <tr>\n",
       "      <th>3</th>\n",
       "      <td>Noodle</td>\n",
       "      <td>45</td>\n",
       "      <td>180</td>\n",
       "      <td>120</td>\n",
       "      <td>0.101067</td>\n",
       "      <td>0.1600</td>\n",
       "      <td>0.631668</td>\n",
       "      <td>0.568501</td>\n",
       "    </tr>\n",
       "    <tr>\n",
       "      <th>4</th>\n",
       "      <td>BadRes</td>\n",
       "      <td>30</td>\n",
       "      <td>240</td>\n",
       "      <td>120</td>\n",
       "      <td>0.070747</td>\n",
       "      <td>0.1120</td>\n",
       "      <td>0.631668</td>\n",
       "      <td>0.568501</td>\n",
       "    </tr>\n",
       "    <tr>\n",
       "      <th>5</th>\n",
       "      <td>FriedChicken</td>\n",
       "      <td>35</td>\n",
       "      <td>90</td>\n",
       "      <td>40</td>\n",
       "      <td>0.176867</td>\n",
       "      <td>0.2800</td>\n",
       "      <td>0.631668</td>\n",
       "      <td>0.568501</td>\n",
       "    </tr>\n",
       "    <tr>\n",
       "      <th>6</th>\n",
       "      <td>RatArissara</td>\n",
       "      <td>25</td>\n",
       "      <td>60</td>\n",
       "      <td>30</td>\n",
       "      <td>0.141494</td>\n",
       "      <td>0.2240</td>\n",
       "      <td>0.631668</td>\n",
       "      <td>0.568501</td>\n",
       "    </tr>\n",
       "    <tr>\n",
       "      <th>7</th>\n",
       "      <td>Eurobane</td>\n",
       "      <td>45</td>\n",
       "      <td>180</td>\n",
       "      <td>120</td>\n",
       "      <td>0.101067</td>\n",
       "      <td>0.2744</td>\n",
       "      <td>0.368332</td>\n",
       "      <td>0.331499</td>\n",
       "    </tr>\n",
       "    <tr>\n",
       "      <th>8</th>\n",
       "      <td>NewRes</td>\n",
       "      <td>30</td>\n",
       "      <td>50</td>\n",
       "      <td>35</td>\n",
       "      <td>0.078608</td>\n",
       "      <td>0.2134</td>\n",
       "      <td>0.368332</td>\n",
       "      <td>0.331499</td>\n",
       "    </tr>\n",
       "    <tr>\n",
       "      <th>9</th>\n",
       "      <td>RicePotatoChicken</td>\n",
       "      <td>25</td>\n",
       "      <td>60</td>\n",
       "      <td>30</td>\n",
       "      <td>0.117911</td>\n",
       "      <td>0.3201</td>\n",
       "      <td>0.368332</td>\n",
       "      <td>0.331499</td>\n",
       "    </tr>\n",
       "    <tr>\n",
       "      <th>10</th>\n",
       "      <td>Waffle</td>\n",
       "      <td>10</td>\n",
       "      <td>60</td>\n",
       "      <td>40</td>\n",
       "      <td>0.070747</td>\n",
       "      <td>0.1921</td>\n",
       "      <td>0.368332</td>\n",
       "      <td>0.331499</td>\n",
       "    </tr>\n",
       "  </tbody>\n",
       "</table>\n",
       "</div>"
      ],
      "text/plain": [
       "                 Name  Min  Max  Mode      Prob  ProbSub  InitFactor  \\\n",
       "2              Orange   25   70    35  0.141494   0.2240    0.631668   \n",
       "3              Noodle   45  180   120  0.101067   0.1600    0.631668   \n",
       "4              BadRes   30  240   120  0.070747   0.1120    0.631668   \n",
       "5        FriedChicken   35   90    40  0.176867   0.2800    0.631668   \n",
       "6         RatArissara   25   60    30  0.141494   0.2240    0.631668   \n",
       "7            Eurobane   45  180   120  0.101067   0.2744    0.368332   \n",
       "8              NewRes   30   50    35  0.078608   0.2134    0.368332   \n",
       "9   RicePotatoChicken   25   60    30  0.117911   0.3201    0.368332   \n",
       "10             Waffle   10   60    40  0.070747   0.1921    0.368332   \n",
       "\n",
       "    ScaledFactor  \n",
       "2       0.568501  \n",
       "3       0.568501  \n",
       "4       0.568501  \n",
       "5       0.568501  \n",
       "6       0.568501  \n",
       "7       0.331499  \n",
       "8       0.331499  \n",
       "9       0.331499  \n",
       "10      0.331499  "
      ]
     },
     "execution_count": 35,
     "metadata": {},
     "output_type": "execute_result"
    }
   ],
   "source": [
    "df"
   ]
  },
  {
   "cell_type": "code",
   "execution_count": 36,
   "metadata": {},
   "outputs": [
    {
     "data": {
      "text/html": [
       "<div>\n",
       "<style scoped>\n",
       "    .dataframe tbody tr th:only-of-type {\n",
       "        vertical-align: middle;\n",
       "    }\n",
       "\n",
       "    .dataframe tbody tr th {\n",
       "        vertical-align: top;\n",
       "    }\n",
       "\n",
       "    .dataframe thead th {\n",
       "        text-align: right;\n",
       "    }\n",
       "</style>\n",
       "<table border=\"1\" class=\"dataframe\">\n",
       "  <thead>\n",
       "    <tr style=\"text-align: right;\">\n",
       "      <th></th>\n",
       "      <th>Name</th>\n",
       "      <th>Min</th>\n",
       "      <th>Max</th>\n",
       "      <th>Mode</th>\n",
       "      <th>Prob</th>\n",
       "      <th>ProbSub</th>\n",
       "      <th>InitFactor</th>\n",
       "      <th>ScaledFactor</th>\n",
       "    </tr>\n",
       "  </thead>\n",
       "  <tbody>\n",
       "    <tr>\n",
       "      <th>10</th>\n",
       "      <td>Waffle</td>\n",
       "      <td>10</td>\n",
       "      <td>60</td>\n",
       "      <td>40</td>\n",
       "      <td>0.070747</td>\n",
       "      <td>0.1921</td>\n",
       "      <td>0.368332</td>\n",
       "      <td>0.331499</td>\n",
       "    </tr>\n",
       "    <tr>\n",
       "      <th>9</th>\n",
       "      <td>RicePotatoChicken</td>\n",
       "      <td>25</td>\n",
       "      <td>60</td>\n",
       "      <td>30</td>\n",
       "      <td>0.117911</td>\n",
       "      <td>0.3201</td>\n",
       "      <td>0.368332</td>\n",
       "      <td>0.331499</td>\n",
       "    </tr>\n",
       "    <tr>\n",
       "      <th>8</th>\n",
       "      <td>NewRes</td>\n",
       "      <td>30</td>\n",
       "      <td>50</td>\n",
       "      <td>35</td>\n",
       "      <td>0.078608</td>\n",
       "      <td>0.2134</td>\n",
       "      <td>0.368332</td>\n",
       "      <td>0.331499</td>\n",
       "    </tr>\n",
       "    <tr>\n",
       "      <th>7</th>\n",
       "      <td>Eurobane</td>\n",
       "      <td>45</td>\n",
       "      <td>180</td>\n",
       "      <td>120</td>\n",
       "      <td>0.101067</td>\n",
       "      <td>0.2744</td>\n",
       "      <td>0.368332</td>\n",
       "      <td>0.331499</td>\n",
       "    </tr>\n",
       "    <tr>\n",
       "      <th>6</th>\n",
       "      <td>RatArissara</td>\n",
       "      <td>25</td>\n",
       "      <td>60</td>\n",
       "      <td>30</td>\n",
       "      <td>0.141494</td>\n",
       "      <td>0.2240</td>\n",
       "      <td>0.631668</td>\n",
       "      <td>0.568501</td>\n",
       "    </tr>\n",
       "    <tr>\n",
       "      <th>5</th>\n",
       "      <td>FriedChicken</td>\n",
       "      <td>35</td>\n",
       "      <td>90</td>\n",
       "      <td>40</td>\n",
       "      <td>0.176867</td>\n",
       "      <td>0.2800</td>\n",
       "      <td>0.631668</td>\n",
       "      <td>0.568501</td>\n",
       "    </tr>\n",
       "    <tr>\n",
       "      <th>4</th>\n",
       "      <td>BadRes</td>\n",
       "      <td>30</td>\n",
       "      <td>240</td>\n",
       "      <td>120</td>\n",
       "      <td>0.070747</td>\n",
       "      <td>0.1120</td>\n",
       "      <td>0.631668</td>\n",
       "      <td>0.568501</td>\n",
       "    </tr>\n",
       "    <tr>\n",
       "      <th>3</th>\n",
       "      <td>Noodle</td>\n",
       "      <td>45</td>\n",
       "      <td>180</td>\n",
       "      <td>120</td>\n",
       "      <td>0.101067</td>\n",
       "      <td>0.1600</td>\n",
       "      <td>0.631668</td>\n",
       "      <td>0.568501</td>\n",
       "    </tr>\n",
       "    <tr>\n",
       "      <th>2</th>\n",
       "      <td>Orange</td>\n",
       "      <td>25</td>\n",
       "      <td>70</td>\n",
       "      <td>35</td>\n",
       "      <td>0.141494</td>\n",
       "      <td>0.2240</td>\n",
       "      <td>0.631668</td>\n",
       "      <td>0.568501</td>\n",
       "    </tr>\n",
       "  </tbody>\n",
       "</table>\n",
       "</div>"
      ],
      "text/plain": [
       "                 Name  Min  Max  Mode      Prob  ProbSub  InitFactor  \\\n",
       "10             Waffle   10   60    40  0.070747   0.1921    0.368332   \n",
       "9   RicePotatoChicken   25   60    30  0.117911   0.3201    0.368332   \n",
       "8              NewRes   30   50    35  0.078608   0.2134    0.368332   \n",
       "7            Eurobane   45  180   120  0.101067   0.2744    0.368332   \n",
       "6         RatArissara   25   60    30  0.141494   0.2240    0.631668   \n",
       "5        FriedChicken   35   90    40  0.176867   0.2800    0.631668   \n",
       "4              BadRes   30  240   120  0.070747   0.1120    0.631668   \n",
       "3              Noodle   45  180   120  0.101067   0.1600    0.631668   \n",
       "2              Orange   25   70    35  0.141494   0.2240    0.631668   \n",
       "\n",
       "    ScaledFactor  \n",
       "10      0.331499  \n",
       "9       0.331499  \n",
       "8       0.331499  \n",
       "7       0.331499  \n",
       "6       0.568501  \n",
       "5       0.568501  \n",
       "4       0.568501  \n",
       "3       0.568501  \n",
       "2       0.568501  "
      ]
     },
     "execution_count": 36,
     "metadata": {},
     "output_type": "execute_result"
    }
   ],
   "source": [
    "df.sort_index(ascending=False)"
   ]
  },
  {
   "attachments": {},
   "cell_type": "markdown",
   "metadata": {},
   "source": [
    "For the drink service"
   ]
  },
  {
   "cell_type": "code",
   "execution_count": 37,
   "metadata": {},
   "outputs": [
    {
     "data": {
      "text/plain": [
       "28"
      ]
     },
     "execution_count": 37,
     "metadata": {},
     "output_type": "execute_result"
    }
   ],
   "source": [
    "small_in = 5\n",
    "big_in = 23\n",
    "tot = small_in + big_in\n",
    "tot"
   ]
  },
  {
   "cell_type": "code",
   "execution_count": 38,
   "metadata": {},
   "outputs": [
    {
     "data": {
      "text/plain": [
       "6.0"
      ]
     },
     "execution_count": 38,
     "metadata": {},
     "output_type": "execute_result"
    }
   ],
   "source": [
    "period_sec = 10\n",
    "freq_sec = 1/period_sec\n",
    "freq_min = freq_sec*60\n",
    "freq_min"
   ]
  },
  {
   "cell_type": "code",
   "execution_count": 39,
   "metadata": {},
   "outputs": [
    {
     "data": {
      "text/plain": [
       "0.21428571428571427"
      ]
     },
     "execution_count": 39,
     "metadata": {},
     "output_type": "execute_result"
    }
   ],
   "source": [
    "prob_drink = freq_min/tot\n",
    "prob_drink"
   ]
  },
  {
   "cell_type": "code",
   "execution_count": 40,
   "metadata": {},
   "outputs": [
    {
     "name": "stdout",
     "output_type": "stream",
     "text": [
      "0.21429 0.78571\n"
     ]
    }
   ],
   "source": [
    "print(round(prob_drink,5),1-round(prob_drink,5))"
   ]
  },
  {
   "attachments": {},
   "cell_type": "markdown",
   "metadata": {},
   "source": [
    "Exiting"
   ]
  },
  {
   "cell_type": "code",
   "execution_count": 41,
   "metadata": {},
   "outputs": [
    {
     "data": {
      "text/plain": [
       "[0.17857, 0.82143]"
      ]
     },
     "execution_count": 41,
     "metadata": {},
     "output_type": "execute_result"
    }
   ],
   "source": [
    "small_big = [small_in, big_in]\n",
    "exit_prob = [round(i/sum(l),5) for i in small_big]\n",
    "exit_prob"
   ]
  }
 ],
 "metadata": {
  "kernelspec": {
   "display_name": "Python 3",
   "language": "python",
   "name": "python3"
  },
  "language_info": {
   "codemirror_mode": {
    "name": "ipython",
    "version": 3
   },
   "file_extension": ".py",
   "mimetype": "text/x-python",
   "name": "python",
   "nbconvert_exporter": "python",
   "pygments_lexer": "ipython3",
   "version": "3.10.11"
  },
  "orig_nbformat": 4
 },
 "nbformat": 4,
 "nbformat_minor": 2
}
